{
 "cells": [
  {
   "cell_type": "markdown",
   "metadata": {},
   "source": [
    "# Importation des données"
   ]
  },
  {
   "cell_type": "code",
   "execution_count": 11,
   "metadata": {},
   "outputs": [],
   "source": [
    "def extended_score(y_pred, y_reel):\n",
    "    n = len(y_pred)\n",
    "    c = 0\n",
    "    for i in range(n):\n",
    "        if(abs(y_pred[i] - y_reel[i]) <= 1) : \n",
    "            c += 1\n",
    "    return c/n"
   ]
  },
  {
   "cell_type": "code",
   "execution_count": 1,
   "metadata": {
    "scrolled": true
   },
   "outputs": [
    {
     "data": {
      "text/html": [
       "<div>\n",
       "<style scoped>\n",
       "    .dataframe tbody tr th:only-of-type {\n",
       "        vertical-align: middle;\n",
       "    }\n",
       "\n",
       "    .dataframe tbody tr th {\n",
       "        vertical-align: top;\n",
       "    }\n",
       "\n",
       "    .dataframe thead th {\n",
       "        text-align: right;\n",
       "    }\n",
       "</style>\n",
       "<table border=\"1\" class=\"dataframe\">\n",
       "  <thead>\n",
       "    <tr style=\"text-align: right;\">\n",
       "      <th></th>\n",
       "      <th>Product_Info_1</th>\n",
       "      <th>Product_Info_2</th>\n",
       "      <th>Product_Info_3</th>\n",
       "      <th>Product_Info_4</th>\n",
       "      <th>Product_Info_5</th>\n",
       "      <th>Product_Info_6</th>\n",
       "      <th>Product_Info_7</th>\n",
       "      <th>Ins_Age</th>\n",
       "      <th>Ht</th>\n",
       "      <th>Wt</th>\n",
       "      <th>...</th>\n",
       "      <th>Medical_Keyword_40</th>\n",
       "      <th>Medical_Keyword_41</th>\n",
       "      <th>Medical_Keyword_42</th>\n",
       "      <th>Medical_Keyword_43</th>\n",
       "      <th>Medical_Keyword_44</th>\n",
       "      <th>Medical_Keyword_45</th>\n",
       "      <th>Medical_Keyword_46</th>\n",
       "      <th>Medical_Keyword_47</th>\n",
       "      <th>Medical_Keyword_48</th>\n",
       "      <th>Response</th>\n",
       "    </tr>\n",
       "  </thead>\n",
       "  <tbody>\n",
       "    <tr>\n",
       "      <td>0</td>\n",
       "      <td>1</td>\n",
       "      <td>A8</td>\n",
       "      <td>26</td>\n",
       "      <td>0.230769</td>\n",
       "      <td>2</td>\n",
       "      <td>3</td>\n",
       "      <td>1</td>\n",
       "      <td>0.492537</td>\n",
       "      <td>0.563636</td>\n",
       "      <td>0.225941</td>\n",
       "      <td>...</td>\n",
       "      <td>0</td>\n",
       "      <td>0</td>\n",
       "      <td>0</td>\n",
       "      <td>0</td>\n",
       "      <td>0</td>\n",
       "      <td>0</td>\n",
       "      <td>0</td>\n",
       "      <td>0</td>\n",
       "      <td>0</td>\n",
       "      <td>7</td>\n",
       "    </tr>\n",
       "    <tr>\n",
       "      <td>1</td>\n",
       "      <td>1</td>\n",
       "      <td>D2</td>\n",
       "      <td>26</td>\n",
       "      <td>1.000000</td>\n",
       "      <td>3</td>\n",
       "      <td>3</td>\n",
       "      <td>1</td>\n",
       "      <td>0.671642</td>\n",
       "      <td>0.781818</td>\n",
       "      <td>0.326360</td>\n",
       "      <td>...</td>\n",
       "      <td>0</td>\n",
       "      <td>0</td>\n",
       "      <td>0</td>\n",
       "      <td>0</td>\n",
       "      <td>0</td>\n",
       "      <td>0</td>\n",
       "      <td>0</td>\n",
       "      <td>0</td>\n",
       "      <td>0</td>\n",
       "      <td>6</td>\n",
       "    </tr>\n",
       "    <tr>\n",
       "      <td>2</td>\n",
       "      <td>1</td>\n",
       "      <td>D2</td>\n",
       "      <td>26</td>\n",
       "      <td>0.230769</td>\n",
       "      <td>2</td>\n",
       "      <td>3</td>\n",
       "      <td>1</td>\n",
       "      <td>0.626866</td>\n",
       "      <td>0.745455</td>\n",
       "      <td>0.393305</td>\n",
       "      <td>...</td>\n",
       "      <td>0</td>\n",
       "      <td>0</td>\n",
       "      <td>0</td>\n",
       "      <td>0</td>\n",
       "      <td>0</td>\n",
       "      <td>0</td>\n",
       "      <td>0</td>\n",
       "      <td>0</td>\n",
       "      <td>0</td>\n",
       "      <td>1</td>\n",
       "    </tr>\n",
       "    <tr>\n",
       "      <td>3</td>\n",
       "      <td>1</td>\n",
       "      <td>D4</td>\n",
       "      <td>26</td>\n",
       "      <td>0.230769</td>\n",
       "      <td>2</td>\n",
       "      <td>3</td>\n",
       "      <td>1</td>\n",
       "      <td>0.268657</td>\n",
       "      <td>0.690909</td>\n",
       "      <td>0.246862</td>\n",
       "      <td>...</td>\n",
       "      <td>0</td>\n",
       "      <td>0</td>\n",
       "      <td>0</td>\n",
       "      <td>0</td>\n",
       "      <td>0</td>\n",
       "      <td>0</td>\n",
       "      <td>0</td>\n",
       "      <td>0</td>\n",
       "      <td>0</td>\n",
       "      <td>4</td>\n",
       "    </tr>\n",
       "    <tr>\n",
       "      <td>4</td>\n",
       "      <td>1</td>\n",
       "      <td>E1</td>\n",
       "      <td>10</td>\n",
       "      <td>0.230769</td>\n",
       "      <td>2</td>\n",
       "      <td>3</td>\n",
       "      <td>1</td>\n",
       "      <td>0.641791</td>\n",
       "      <td>0.581818</td>\n",
       "      <td>0.466527</td>\n",
       "      <td>...</td>\n",
       "      <td>0</td>\n",
       "      <td>0</td>\n",
       "      <td>1</td>\n",
       "      <td>0</td>\n",
       "      <td>0</td>\n",
       "      <td>0</td>\n",
       "      <td>1</td>\n",
       "      <td>0</td>\n",
       "      <td>0</td>\n",
       "      <td>2</td>\n",
       "    </tr>\n",
       "    <tr>\n",
       "      <td>...</td>\n",
       "      <td>...</td>\n",
       "      <td>...</td>\n",
       "      <td>...</td>\n",
       "      <td>...</td>\n",
       "      <td>...</td>\n",
       "      <td>...</td>\n",
       "      <td>...</td>\n",
       "      <td>...</td>\n",
       "      <td>...</td>\n",
       "      <td>...</td>\n",
       "      <td>...</td>\n",
       "      <td>...</td>\n",
       "      <td>...</td>\n",
       "      <td>...</td>\n",
       "      <td>...</td>\n",
       "      <td>...</td>\n",
       "      <td>...</td>\n",
       "      <td>...</td>\n",
       "      <td>...</td>\n",
       "      <td>...</td>\n",
       "      <td>...</td>\n",
       "    </tr>\n",
       "    <tr>\n",
       "      <td>58876</td>\n",
       "      <td>1</td>\n",
       "      <td>A1</td>\n",
       "      <td>26</td>\n",
       "      <td>0.051282</td>\n",
       "      <td>2</td>\n",
       "      <td>3</td>\n",
       "      <td>1</td>\n",
       "      <td>0.507463</td>\n",
       "      <td>0.781818</td>\n",
       "      <td>0.518828</td>\n",
       "      <td>...</td>\n",
       "      <td>0</td>\n",
       "      <td>0</td>\n",
       "      <td>1</td>\n",
       "      <td>0</td>\n",
       "      <td>0</td>\n",
       "      <td>0</td>\n",
       "      <td>0</td>\n",
       "      <td>0</td>\n",
       "      <td>1</td>\n",
       "      <td>2</td>\n",
       "    </tr>\n",
       "    <tr>\n",
       "      <td>58877</td>\n",
       "      <td>1</td>\n",
       "      <td>A1</td>\n",
       "      <td>26</td>\n",
       "      <td>0.128205</td>\n",
       "      <td>2</td>\n",
       "      <td>3</td>\n",
       "      <td>1</td>\n",
       "      <td>0.223881</td>\n",
       "      <td>0.709091</td>\n",
       "      <td>0.223849</td>\n",
       "      <td>...</td>\n",
       "      <td>0</td>\n",
       "      <td>0</td>\n",
       "      <td>0</td>\n",
       "      <td>0</td>\n",
       "      <td>0</td>\n",
       "      <td>0</td>\n",
       "      <td>0</td>\n",
       "      <td>0</td>\n",
       "      <td>0</td>\n",
       "      <td>8</td>\n",
       "    </tr>\n",
       "    <tr>\n",
       "      <td>58878</td>\n",
       "      <td>1</td>\n",
       "      <td>D3</td>\n",
       "      <td>26</td>\n",
       "      <td>0.076923</td>\n",
       "      <td>2</td>\n",
       "      <td>3</td>\n",
       "      <td>1</td>\n",
       "      <td>0.611940</td>\n",
       "      <td>0.745455</td>\n",
       "      <td>0.309623</td>\n",
       "      <td>...</td>\n",
       "      <td>0</td>\n",
       "      <td>0</td>\n",
       "      <td>0</td>\n",
       "      <td>1</td>\n",
       "      <td>0</td>\n",
       "      <td>0</td>\n",
       "      <td>0</td>\n",
       "      <td>0</td>\n",
       "      <td>0</td>\n",
       "      <td>8</td>\n",
       "    </tr>\n",
       "    <tr>\n",
       "      <td>58879</td>\n",
       "      <td>1</td>\n",
       "      <td>D3</td>\n",
       "      <td>26</td>\n",
       "      <td>1.000000</td>\n",
       "      <td>2</td>\n",
       "      <td>3</td>\n",
       "      <td>1</td>\n",
       "      <td>0.298507</td>\n",
       "      <td>0.690909</td>\n",
       "      <td>0.234310</td>\n",
       "      <td>...</td>\n",
       "      <td>0</td>\n",
       "      <td>0</td>\n",
       "      <td>0</td>\n",
       "      <td>0</td>\n",
       "      <td>0</td>\n",
       "      <td>0</td>\n",
       "      <td>0</td>\n",
       "      <td>0</td>\n",
       "      <td>0</td>\n",
       "      <td>8</td>\n",
       "    </tr>\n",
       "    <tr>\n",
       "      <td>58880</td>\n",
       "      <td>1</td>\n",
       "      <td>D4</td>\n",
       "      <td>26</td>\n",
       "      <td>0.294390</td>\n",
       "      <td>2</td>\n",
       "      <td>3</td>\n",
       "      <td>1</td>\n",
       "      <td>0.328358</td>\n",
       "      <td>0.745455</td>\n",
       "      <td>0.278243</td>\n",
       "      <td>...</td>\n",
       "      <td>0</td>\n",
       "      <td>0</td>\n",
       "      <td>0</td>\n",
       "      <td>0</td>\n",
       "      <td>0</td>\n",
       "      <td>0</td>\n",
       "      <td>0</td>\n",
       "      <td>0</td>\n",
       "      <td>0</td>\n",
       "      <td>6</td>\n",
       "    </tr>\n",
       "  </tbody>\n",
       "</table>\n",
       "<p>58881 rows × 129 columns</p>\n",
       "</div>"
      ],
      "text/plain": [
       "       Product_Info_1 Product_Info_2  Product_Info_3  Product_Info_4  \\\n",
       "0                   1             A8              26        0.230769   \n",
       "1                   1             D2              26        1.000000   \n",
       "2                   1             D2              26        0.230769   \n",
       "3                   1             D4              26        0.230769   \n",
       "4                   1             E1              10        0.230769   \n",
       "...               ...            ...             ...             ...   \n",
       "58876               1             A1              26        0.051282   \n",
       "58877               1             A1              26        0.128205   \n",
       "58878               1             D3              26        0.076923   \n",
       "58879               1             D3              26        1.000000   \n",
       "58880               1             D4              26        0.294390   \n",
       "\n",
       "       Product_Info_5  Product_Info_6  Product_Info_7   Ins_Age        Ht  \\\n",
       "0                   2               3               1  0.492537  0.563636   \n",
       "1                   3               3               1  0.671642  0.781818   \n",
       "2                   2               3               1  0.626866  0.745455   \n",
       "3                   2               3               1  0.268657  0.690909   \n",
       "4                   2               3               1  0.641791  0.581818   \n",
       "...               ...             ...             ...       ...       ...   \n",
       "58876               2               3               1  0.507463  0.781818   \n",
       "58877               2               3               1  0.223881  0.709091   \n",
       "58878               2               3               1  0.611940  0.745455   \n",
       "58879               2               3               1  0.298507  0.690909   \n",
       "58880               2               3               1  0.328358  0.745455   \n",
       "\n",
       "             Wt  ...  Medical_Keyword_40  Medical_Keyword_41  \\\n",
       "0      0.225941  ...                   0                   0   \n",
       "1      0.326360  ...                   0                   0   \n",
       "2      0.393305  ...                   0                   0   \n",
       "3      0.246862  ...                   0                   0   \n",
       "4      0.466527  ...                   0                   0   \n",
       "...         ...  ...                 ...                 ...   \n",
       "58876  0.518828  ...                   0                   0   \n",
       "58877  0.223849  ...                   0                   0   \n",
       "58878  0.309623  ...                   0                   0   \n",
       "58879  0.234310  ...                   0                   0   \n",
       "58880  0.278243  ...                   0                   0   \n",
       "\n",
       "       Medical_Keyword_42  Medical_Keyword_43  Medical_Keyword_44  \\\n",
       "0                       0                   0                   0   \n",
       "1                       0                   0                   0   \n",
       "2                       0                   0                   0   \n",
       "3                       0                   0                   0   \n",
       "4                       1                   0                   0   \n",
       "...                   ...                 ...                 ...   \n",
       "58876                   1                   0                   0   \n",
       "58877                   0                   0                   0   \n",
       "58878                   0                   1                   0   \n",
       "58879                   0                   0                   0   \n",
       "58880                   0                   0                   0   \n",
       "\n",
       "       Medical_Keyword_45  Medical_Keyword_46  Medical_Keyword_47  \\\n",
       "0                       0                   0                   0   \n",
       "1                       0                   0                   0   \n",
       "2                       0                   0                   0   \n",
       "3                       0                   0                   0   \n",
       "4                       0                   1                   0   \n",
       "...                   ...                 ...                 ...   \n",
       "58876                   0                   0                   0   \n",
       "58877                   0                   0                   0   \n",
       "58878                   0                   0                   0   \n",
       "58879                   0                   0                   0   \n",
       "58880                   0                   0                   0   \n",
       "\n",
       "       Medical_Keyword_48  Response  \n",
       "0                       0         7  \n",
       "1                       0         6  \n",
       "2                       0         1  \n",
       "3                       0         4  \n",
       "4                       0         2  \n",
       "...                   ...       ...  \n",
       "58876                   1         2  \n",
       "58877                   0         8  \n",
       "58878                   0         8  \n",
       "58879                   0         8  \n",
       "58880                   0         6  \n",
       "\n",
       "[58881 rows x 129 columns]"
      ]
     },
     "execution_count": 1,
     "metadata": {},
     "output_type": "execute_result"
    }
   ],
   "source": [
    "import pandas as pd\n",
    "\n",
    "data = pd.read_csv(\"train.csv\")\n",
    "data"
   ]
  },
  {
   "cell_type": "markdown",
   "metadata": {},
   "source": [
    "# Labélisation"
   ]
  },
  {
   "cell_type": "code",
   "execution_count": 3,
   "metadata": {},
   "outputs": [
    {
     "data": {
      "text/plain": [
       "LabelEncoder()"
      ]
     },
     "execution_count": 3,
     "metadata": {},
     "output_type": "execute_result"
    }
   ],
   "source": [
    "from sklearn.preprocessing import LabelEncoder\n",
    "import numpy as np\n",
    "from IPython.display import clear_output\n",
    "\n",
    "npdata = data.to_numpy().copy()\n",
    "npdata = np.delete(npdata, -1, 1)\n",
    "\n",
    "labEncoder = LabelEncoder(); \n",
    "\n",
    "all_label = npdata.reshape(1, -1)[0]\n",
    "labEncoder.fit(all_label.astype(str))"
   ]
  },
  {
   "cell_type": "code",
   "execution_count": 4,
   "metadata": {},
   "outputs": [
    {
     "name": "stdout",
     "output_type": "stream",
     "text": [
      "58881/58881\n"
     ]
    },
    {
     "data": {
      "text/plain": [
       "array([[10152, 11311, 10539, ..., 0, 0, 0],\n",
       "       [10152, 11326, 10539, ..., 0, 0, 0],\n",
       "       [10152, 11326, 10539, ..., 0, 0, 0],\n",
       "       ...,\n",
       "       [10152, 11327, 10539, ..., 0, 0, 0],\n",
       "       [10152, 11327, 10539, ..., 0, 0, 0],\n",
       "       [10152, 11328, 10539, ..., 0, 0, 0]], dtype=object)"
      ]
     },
     "execution_count": 4,
     "metadata": {},
     "output_type": "execute_result"
    }
   ],
   "source": [
    "for i in range(len(npdata)):\n",
    "    if(i%500 == 0):\n",
    "        clear_output()\n",
    "        print(str(i)+'/'+str(len(npdata)))\n",
    "    npdata[i] = labEncoder.transform(npdata[i].astype(str))\n",
    "\n",
    "clear_output()\n",
    "print(str(len(npdata))+'/'+str(len(npdata)))\n",
    "npdata"
   ]
  },
  {
   "cell_type": "markdown",
   "metadata": {},
   "source": [
    "# Apprentissage"
   ]
  },
  {
   "cell_type": "code",
   "execution_count": 5,
   "metadata": {},
   "outputs": [
    {
     "data": {
      "text/plain": [
       "(14721,)"
      ]
     },
     "execution_count": 5,
     "metadata": {},
     "output_type": "execute_result"
    }
   ],
   "source": [
    "from sklearn.model_selection import train_test_split\n",
    "\n",
    "X_train, X_test, y_train, y_test = train_test_split(npdata, data['Response'].to_numpy())\n",
    "y_test.shape"
   ]
  },
  {
   "cell_type": "code",
   "execution_count": 6,
   "metadata": {},
   "outputs": [],
   "source": [
    "from sklearn.decomposition import PCA\n",
    "from sklearn.preprocessing import StandardScaler\n",
    "\n",
    "scaler_standard = StandardScaler()\n",
    "scaler_standard.fit(npdata)\n",
    "\n",
    "X_scaled_train = scaler_standard.transform(X_train)\n",
    "X_scaled_test = scaler_standard.transform(X_test)"
   ]
  },
  {
   "cell_type": "markdown",
   "metadata": {},
   "source": [
    "## KNN"
   ]
  },
  {
   "cell_type": "code",
   "execution_count": 31,
   "metadata": {},
   "outputs": [],
   "source": [
    "from sklearn.neighbors import KNeighborsClassifier\n",
    "\n",
    "knn100 = KNeighborsClassifier(n_neighbors=60)"
   ]
  },
  {
   "cell_type": "code",
   "execution_count": 14,
   "metadata": {},
   "outputs": [
    {
     "name": "stdout",
     "output_type": "stream",
     "text": [
      "Done\n"
     ]
    }
   ],
   "source": [
    "acc = []\n",
    "n_val = [50,60,70]\n",
    "\n",
    "for i in n_val:\n",
    "    clear_output()\n",
    "    print(str(i))\n",
    "    knn = KNeighborsClassifier(n_neighbors=i)\n",
    "    knn.fit(X_scaled_train, y_train)\n",
    "    acc.append(knn.score(X_scaled_test, y_test))\n",
    "clear_output()\n",
    "print('Done')"
   ]
  },
  {
   "cell_type": "code",
   "execution_count": 15,
   "metadata": {},
   "outputs": [
    {
     "data": {
      "text/plain": [
       "[<matplotlib.lines.Line2D at 0x24a6c8dc358>]"
      ]
     },
     "execution_count": 15,
     "metadata": {},
     "output_type": "execute_result"
    },
    {
     "data": {
      "image/png": "[encoded data removed]",
      "text/plain": [
       "<Figure size 432x288 with 1 Axes>"
      ]
     },
     "metadata": {
      "needs_background": "light"
     },
     "output_type": "display_data"
    }
   ],
   "source": [
    "import matplotlib.pyplot as plt\n",
    "plt.plot(n_val, acc)"
   ]
  },
  {
   "cell_type": "code",
   "execution_count": 17,
   "metadata": {},
   "outputs": [
    {
     "name": "stdout",
     "output_type": "stream",
     "text": [
      "20/20\n"
     ]
    }
   ],
   "source": [
    "acc = []\n",
    "n_tot = 20\n",
    "\n",
    "for i in range(2,n_tot):\n",
    "    clear_output()\n",
    "    print(str(i)+'/'+str(n_tot))\n",
    "    if(len(acc) != 0):\n",
    "        print('acc: ' + str(acc[-1]))\n",
    "    pca = PCA(n_components=i)\n",
    "    pca.fit(X_scaled_train)\n",
    "    X_pca_train = pca.transform(X_scaled_train)\n",
    "    X_pca_test = pca.transform(X_scaled_test)\n",
    "    knn100.fit(X_pca_train, y_train)\n",
    "    acc.append(knn100.score(X_pca_test, y_test))\n",
    "clear_output()\n",
    "print(str(n_tot)+'/'+str(n_tot))"
   ]
  },
  {
   "cell_type": "code",
   "execution_count": 18,
   "metadata": {},
   "outputs": [
    {
     "data": {
      "text/plain": [
       "[<matplotlib.lines.Line2D at 0x24a6c94a898>]"
      ]
     },
     "execution_count": 18,
     "metadata": {},
     "output_type": "execute_result"
    },
    {
     "data": {
      "image/png": "[encoded data removed]",
      "text/plain": [
       "<Figure size 432x288 with 1 Axes>"
      ]
     },
     "metadata": {
      "needs_background": "light"
     },
     "output_type": "display_data"
    }
   ],
   "source": [
    "import matplotlib.pyplot as plt\n",
    "plt.plot(range(2, n_tot), acc)"
   ]
  },
  {
   "cell_type": "code",
   "execution_count": 19,
   "metadata": {},
   "outputs": [
    {
     "name": "stdout",
     "output_type": "stream",
     "text": [
      "0.4432443448135317 (11)\n"
     ]
    }
   ],
   "source": [
    "print(str(max(acc)) + ' (' + str(acc.index(max(acc))) + ')') "
   ]
  },
  {
   "cell_type": "code",
   "execution_count": 32,
   "metadata": {},
   "outputs": [
    {
     "data": {
      "text/plain": [
       "KNeighborsClassifier(algorithm='auto', leaf_size=30, metric='minkowski',\n",
       "                     metric_params=None, n_jobs=None, n_neighbors=60, p=2,\n",
       "                     weights='uniform')"
      ]
     },
     "execution_count": 32,
     "metadata": {},
     "output_type": "execute_result"
    }
   ],
   "source": [
    "pca = PCA(n_components=10)\n",
    "pca.fit(X_scaled_train)\n",
    "X_pca_train = pca.transform(X_scaled_train)\n",
    "X_pca_test = pca.transform(X_scaled_test)\n",
    "knn100.fit(X_pca_train, y_train)"
   ]
  },
  {
   "cell_type": "code",
   "execution_count": 33,
   "metadata": {},
   "outputs": [
    {
     "name": "stdout",
     "output_type": "stream",
     "text": [
      "Score train: 0.454167\n",
      "Score test: 0.426466\n",
      "Extended accuracy: 0.6223761972692072\n"
     ]
    }
   ],
   "source": [
    "print('Score train: %f'%knn100.score(X_pca_train, y_train))\n",
    "print('Score test: %f'%knn100.score(X_pca_test, y_test))\n",
    "print(\"Extended accuracy:\", extended_score(knn100.predict(X_pca_test), y_test))"
   ]
  },
  {
   "cell_type": "markdown",
   "metadata": {},
   "source": [
    "## SVM"
   ]
  },
  {
   "cell_type": "code",
   "execution_count": 27,
   "metadata": {},
   "outputs": [],
   "source": [
    "from sklearn.svm import SVC\n",
    "\n",
    "svm10 = SVC(kernel=\"linear\", C=1.0)"
   ]
  },
  {
   "cell_type": "code",
   "execution_count": 23,
   "metadata": {},
   "outputs": [
    {
     "name": "stdout",
     "output_type": "stream",
     "text": [
      "78/129\n",
      "acc: 0.48726309353984104\n"
     ]
    },
    {
     "ename": "KeyboardInterrupt",
     "evalue": "",
     "output_type": "error",
     "traceback": [
      "\u001b[1;31m---------------------------------------------------------------------------\u001b[0m",
      "\u001b[1;31mKeyboardInterrupt\u001b[0m                         Traceback (most recent call last)",
      "\u001b[1;32m<ipython-input-23-f8ae0b6cb9e8>\u001b[0m in \u001b[0;36m<module>\u001b[1;34m\u001b[0m\n\u001b[0;32m     12\u001b[0m     \u001b[0mX_pca_train\u001b[0m \u001b[1;33m=\u001b[0m \u001b[0mpca\u001b[0m\u001b[1;33m.\u001b[0m\u001b[0mtransform\u001b[0m\u001b[1;33m(\u001b[0m\u001b[0mX_scaled_train\u001b[0m\u001b[1;33m)\u001b[0m\u001b[1;33m\u001b[0m\u001b[0m\n\u001b[0;32m     13\u001b[0m     \u001b[0mX_pca_test\u001b[0m \u001b[1;33m=\u001b[0m \u001b[0mpca\u001b[0m\u001b[1;33m.\u001b[0m\u001b[0mtransform\u001b[0m\u001b[1;33m(\u001b[0m\u001b[0mX_scaled_test\u001b[0m\u001b[1;33m)\u001b[0m\u001b[1;33m\u001b[0m\u001b[0m\n\u001b[1;32m---> 14\u001b[1;33m     \u001b[0msvm10\u001b[0m\u001b[1;33m.\u001b[0m\u001b[0mfit\u001b[0m\u001b[1;33m(\u001b[0m\u001b[0mX_pca_train\u001b[0m\u001b[1;33m,\u001b[0m \u001b[0my_train\u001b[0m\u001b[1;33m)\u001b[0m\u001b[1;33m\u001b[0m\u001b[0m\n\u001b[0m\u001b[0;32m     15\u001b[0m     \u001b[0macc\u001b[0m\u001b[1;33m.\u001b[0m\u001b[0mappend\u001b[0m\u001b[1;33m(\u001b[0m\u001b[0msvm10\u001b[0m\u001b[1;33m.\u001b[0m\u001b[0mscore\u001b[0m\u001b[1;33m(\u001b[0m\u001b[0mX_pca_test\u001b[0m\u001b[1;33m,\u001b[0m \u001b[0my_test\u001b[0m\u001b[1;33m)\u001b[0m\u001b[1;33m)\u001b[0m\u001b[1;33m\u001b[0m\u001b[0m\n\u001b[0;32m     16\u001b[0m \u001b[1;33m\u001b[0m\u001b[0m\n",
      "\u001b[1;32md:\\program files (x86)\\microsoft visual studio\\shared\\python36_64\\lib\\site-packages\\sklearn\\svm\\base.py\u001b[0m in \u001b[0;36mfit\u001b[1;34m(self, X, y, sample_weight)\u001b[0m\n\u001b[0;32m    207\u001b[0m \u001b[1;33m\u001b[0m\u001b[0m\n\u001b[0;32m    208\u001b[0m         \u001b[0mseed\u001b[0m \u001b[1;33m=\u001b[0m \u001b[0mrnd\u001b[0m\u001b[1;33m.\u001b[0m\u001b[0mrandint\u001b[0m\u001b[1;33m(\u001b[0m\u001b[0mnp\u001b[0m\u001b[1;33m.\u001b[0m\u001b[0miinfo\u001b[0m\u001b[1;33m(\u001b[0m\u001b[1;34m'i'\u001b[0m\u001b[1;33m)\u001b[0m\u001b[1;33m.\u001b[0m\u001b[0mmax\u001b[0m\u001b[1;33m)\u001b[0m\u001b[1;33m\u001b[0m\u001b[0m\n\u001b[1;32m--> 209\u001b[1;33m         \u001b[0mfit\u001b[0m\u001b[1;33m(\u001b[0m\u001b[0mX\u001b[0m\u001b[1;33m,\u001b[0m \u001b[0my\u001b[0m\u001b[1;33m,\u001b[0m \u001b[0msample_weight\u001b[0m\u001b[1;33m,\u001b[0m \u001b[0msolver_type\u001b[0m\u001b[1;33m,\u001b[0m \u001b[0mkernel\u001b[0m\u001b[1;33m,\u001b[0m \u001b[0mrandom_seed\u001b[0m\u001b[1;33m=\u001b[0m\u001b[0mseed\u001b[0m\u001b[1;33m)\u001b[0m\u001b[1;33m\u001b[0m\u001b[0m\n\u001b[0m\u001b[0;32m    210\u001b[0m         \u001b[1;31m# see comment on the other call to np.iinfo in this file\u001b[0m\u001b[1;33m\u001b[0m\u001b[1;33m\u001b[0m\u001b[0m\n\u001b[0;32m    211\u001b[0m \u001b[1;33m\u001b[0m\u001b[0m\n",
      "\u001b[1;32md:\\program files (x86)\\microsoft visual studio\\shared\\python36_64\\lib\\site-packages\\sklearn\\svm\\base.py\u001b[0m in \u001b[0;36m_dense_fit\u001b[1;34m(self, X, y, sample_weight, solver_type, kernel, random_seed)\u001b[0m\n\u001b[0;32m    266\u001b[0m                 \u001b[0mcache_size\u001b[0m\u001b[1;33m=\u001b[0m\u001b[0mself\u001b[0m\u001b[1;33m.\u001b[0m\u001b[0mcache_size\u001b[0m\u001b[1;33m,\u001b[0m \u001b[0mcoef0\u001b[0m\u001b[1;33m=\u001b[0m\u001b[0mself\u001b[0m\u001b[1;33m.\u001b[0m\u001b[0mcoef0\u001b[0m\u001b[1;33m,\u001b[0m\u001b[1;33m\u001b[0m\u001b[0m\n\u001b[0;32m    267\u001b[0m                 \u001b[0mgamma\u001b[0m\u001b[1;33m=\u001b[0m\u001b[0mself\u001b[0m\u001b[1;33m.\u001b[0m\u001b[0m_gamma\u001b[0m\u001b[1;33m,\u001b[0m \u001b[0mepsilon\u001b[0m\u001b[1;33m=\u001b[0m\u001b[0mself\u001b[0m\u001b[1;33m.\u001b[0m\u001b[0mepsilon\u001b[0m\u001b[1;33m,\u001b[0m\u001b[1;33m\u001b[0m\u001b[0m\n\u001b[1;32m--> 268\u001b[1;33m                 max_iter=self.max_iter, random_seed=random_seed)\n\u001b[0m\u001b[0;32m    269\u001b[0m \u001b[1;33m\u001b[0m\u001b[0m\n\u001b[0;32m    270\u001b[0m         \u001b[0mself\u001b[0m\u001b[1;33m.\u001b[0m\u001b[0m_warn_from_fit_status\u001b[0m\u001b[1;33m(\u001b[0m\u001b[1;33m)\u001b[0m\u001b[1;33m\u001b[0m\u001b[0m\n",
      "\u001b[1;31mKeyboardInterrupt\u001b[0m: "
     ]
    }
   ],
   "source": [
    "acc = []\n",
    "\n",
    "n_tot = data.shape[1]\n",
    "\n",
    "for i in range(2,n_tot):\n",
    "    clear_output()\n",
    "    print(str(i)+'/'+str(n_tot))\n",
    "    if(len(acc) != 0):\n",
    "        print('acc: ' + str(acc[-1]))\n",
    "    pca = PCA(n_components=i)\n",
    "    pca.fit(X_scaled_train)\n",
    "    X_pca_train = pca.transform(X_scaled_train)\n",
    "    X_pca_test = pca.transform(X_scaled_test)\n",
    "    svm10.fit(X_pca_train, y_train)\n",
    "    acc.append(svm10.score(X_pca_test, y_test))\n",
    "    \n",
    "clear_output()\n",
    "print(str(n_tot)+'/'+str(n_tot))"
   ]
  },
  {
   "cell_type": "code",
   "execution_count": 26,
   "metadata": {},
   "outputs": [
    {
     "data": {
      "text/plain": [
       "[<matplotlib.lines.Line2D at 0x2a2694df4a8>]"
      ]
     },
     "execution_count": 26,
     "metadata": {},
     "output_type": "execute_result"
    },
    {
     "data": {
      "image/png": "[encoded data removed]",
      "text/plain": [
       "<Figure size 432x288 with 1 Axes>"
      ]
     },
     "metadata": {
      "needs_background": "light"
     },
     "output_type": "display_data"
    }
   ],
   "source": [
    "import matplotlib.pyplot as plt\n",
    "plt.plot(range(2, len(acc)+2), acc)"
   ]
  },
  {
   "cell_type": "code",
   "execution_count": 27,
   "metadata": {},
   "outputs": [
    {
     "name": "stdout",
     "output_type": "stream",
     "text": [
      "0.4887575572311664 (73)\n"
     ]
    }
   ],
   "source": [
    "print(str(max(acc)) + ' (' + str(acc.index(max(acc))) + ')') "
   ]
  },
  {
   "cell_type": "code",
   "execution_count": 28,
   "metadata": {},
   "outputs": [
    {
     "data": {
      "text/plain": [
       "SVC(C=1.0, cache_size=200, class_weight=None, coef0=0.0,\n",
       "    decision_function_shape='ovr', degree=3, gamma='auto_deprecated',\n",
       "    kernel='linear', max_iter=-1, probability=False, random_state=None,\n",
       "    shrinking=True, tol=0.001, verbose=False)"
      ]
     },
     "execution_count": 28,
     "metadata": {},
     "output_type": "execute_result"
    }
   ],
   "source": [
    "pca = PCA(n_components=17)\n",
    "pca.fit(X_scaled_train)\n",
    "X_pca_train = pca.transform(X_scaled_train)\n",
    "X_pca_test = pca.transform(X_scaled_test)\n",
    "svm10.fit(X_pca_train, y_train)"
   ]
  },
  {
   "cell_type": "code",
   "execution_count": 30,
   "metadata": {},
   "outputs": [
    {
     "name": "stdout",
     "output_type": "stream",
     "text": [
      "Score train: 0.426925\n",
      "Score test: 0.420759\n",
      "Extended accuracy: 0.6274709598532708\n"
     ]
    }
   ],
   "source": [
    "print('Score train: %f'%svm10.score(X_pca_train, y_train))\n",
    "print('Score test: %f'%svm10.score(X_pca_test, y_test))\n",
    "print(\"Extended accuracy:\", extended_score(svm10.predict(X_pca_test), y_test))"
   ]
  },
  {
   "cell_type": "markdown",
   "metadata": {},
   "source": [
    "## Linear Regression"
   ]
  },
  {
   "cell_type": "code",
   "execution_count": 22,
   "metadata": {},
   "outputs": [],
   "source": [
    "from sklearn.linear_model import LogisticRegression\n",
    "\n",
    "logReg10 = LogisticRegression(C=1.0, solver = 'lbfgs')"
   ]
  },
  {
   "cell_type": "code",
   "execution_count": 15,
   "metadata": {},
   "outputs": [
    {
     "name": "stdout",
     "output_type": "stream",
     "text": [
      "129/129\n"
     ]
    }
   ],
   "source": [
    "acc = []\n",
    "\n",
    "n_tot = data.shape[1]\n",
    "\n",
    "for i in range(2,n_tot):\n",
    "    clear_output()\n",
    "    print(str(i)+'/'+str(n_tot))\n",
    "    if(len(acc) != 0):\n",
    "        print('acc: ' + str(acc[-1]))\n",
    "    pca = PCA(n_components=i)\n",
    "    pca.fit(X_scaled_train)\n",
    "    X_pca_train = pca.transform(X_scaled_train)\n",
    "    X_pca_test = pca.transform(X_scaled_test)\n",
    "    logReg10.fit(X_pca_train, y_train)\n",
    "    acc.append(logReg10.score(X_pca_test, y_test))\n",
    "    \n",
    "clear_output()\n",
    "print(str(n_tot)+'/'+str(n_tot))"
   ]
  },
  {
   "cell_type": "code",
   "execution_count": 16,
   "metadata": {},
   "outputs": [
    {
     "data": {
      "text/plain": [
       "[<matplotlib.lines.Line2D at 0x246eeadc908>]"
      ]
     },
     "execution_count": 16,
     "metadata": {},
     "output_type": "execute_result"
    },
    {
     "data": {
      "image/png": "[encoded data removed]",
      "text/plain": [
       "<Figure size 432x288 with 1 Axes>"
      ]
     },
     "metadata": {
      "needs_background": "light"
     },
     "output_type": "display_data"
    }
   ],
   "source": [
    "import matplotlib.pyplot as plt\n",
    "plt.plot(range(2, n_tot), acc)"
   ]
  },
  {
   "cell_type": "code",
   "execution_count": 17,
   "metadata": {},
   "outputs": [
    {
     "name": "stdout",
     "output_type": "stream",
     "text": [
      "0.5115141634399837 (122)\n"
     ]
    }
   ],
   "source": [
    "print(str(max(acc)) + ' (' + str(acc.index(max(acc))) + ')') "
   ]
  },
  {
   "cell_type": "code",
   "execution_count": 23,
   "metadata": {},
   "outputs": [
    {
     "name": "stderr",
     "output_type": "stream",
     "text": [
      "d:\\program files (x86)\\microsoft visual studio\\shared\\python36_64\\lib\\site-packages\\sklearn\\linear_model\\logistic.py:469: FutureWarning: Default multi_class will be changed to 'auto' in 0.22. Specify the multi_class option to silence this warning.\n",
      "  \"this warning.\", FutureWarning)\n",
      "d:\\program files (x86)\\microsoft visual studio\\shared\\python36_64\\lib\\site-packages\\sklearn\\linear_model\\logistic.py:947: ConvergenceWarning: lbfgs failed to converge. Increase the number of iterations.\n",
      "  \"of iterations.\", ConvergenceWarning)\n"
     ]
    },
    {
     "data": {
      "text/plain": [
       "LogisticRegression(C=1.0, class_weight=None, dual=False, fit_intercept=True,\n",
       "                   intercept_scaling=1, l1_ratio=None, max_iter=100,\n",
       "                   multi_class='warn', n_jobs=None, penalty='l2',\n",
       "                   random_state=None, solver='lbfgs', tol=0.0001, verbose=0,\n",
       "                   warm_start=False)"
      ]
     },
     "execution_count": 23,
     "metadata": {},
     "output_type": "execute_result"
    }
   ],
   "source": [
    "pca = PCA(n_components=122)\n",
    "pca.fit(X_scaled_train)\n",
    "X_pca_train = pca.transform(X_scaled_train)\n",
    "X_pca_test = pca.transform(X_scaled_test)\n",
    "logReg10.fit(X_pca_train, y_train)"
   ]
  },
  {
   "cell_type": "code",
   "execution_count": 26,
   "metadata": {},
   "outputs": [
    {
     "name": "stdout",
     "output_type": "stream",
     "text": [
      "Score train: 0.509307\n",
      "Score test: 0.503091\n",
      "Extended accuracy: 0.6879288091841587\n"
     ]
    }
   ],
   "source": [
    "print('Score train: %f'%logReg10.score(X_pca_train, y_train))\n",
    "print('Score test: %f'%logReg10.score(X_pca_test, y_test))\n",
    "print(\"Extended accuracy:\", extended_score(logReg10.predict(X_pca_test), y_test))"
   ]
  },
  {
   "cell_type": "markdown",
   "metadata": {},
   "source": [
    "# Neural Network"
   ]
  },
  {
   "cell_type": "code",
   "execution_count": 19,
   "metadata": {},
   "outputs": [
    {
     "name": "stdout",
     "output_type": "stream",
     "text": [
      "ReLu activation\n",
      "  Train accuracy: 0.6289402173913043\n",
      "  Test  accuracy: 0.524624685822974\n",
      "  Extended accuracy: 0.7250186807961415\n"
     ]
    }
   ],
   "source": [
    "from sklearn.neural_network import MLPClassifier\n",
    "\n",
    "network = MLPClassifier(hidden_layer_sizes=(50,10),\n",
    "                        activation=\"relu\", \n",
    "                        max_iter=5000)\n",
    "\n",
    "network.fit(X_scaled_train, y_train)\n",
    "\n",
    "print(\"ReLu activation\")\n",
    "print(\"  Train accuracy:\", network.score(X_scaled_train, y_train))\n",
    "print(\"  Test  accuracy:\", network.score(X_scaled_test, y_test))\n",
    "print(\"  Extended accuracy:\", extended_score(network.predict(X_scaled_test), y_test))"
   ]
  },
  {
   "cell_type": "code",
   "execution_count": 20,
   "metadata": {},
   "outputs": [
    {
     "name": "stdout",
     "output_type": "stream",
     "text": [
      "ReLu activation\n",
      "  Train accuracy: 0.6062273550724637\n",
      "  Test  accuracy: 0.5339990489776509\n",
      "  Extended accuracy: 0.7239997282793289\n"
     ]
    }
   ],
   "source": [
    "from sklearn.neural_network import MLPClassifier\n",
    "\n",
    "network = MLPClassifier(hidden_layer_sizes=(30,20),\n",
    "                        activation=\"relu\", \n",
    "                        max_iter=5000)\n",
    "\n",
    "network.fit(X_scaled_train, y_train)\n",
    "\n",
    "print(\"ReLu activation\")\n",
    "print(\"  Train accuracy:\", network.score(X_scaled_train, y_train))\n",
    "print(\"  Test  accuracy:\", network.score(X_scaled_test, y_test))\n",
    "print(\"  Extended accuracy:\", extended_score(network.predict(X_scaled_test), y_test))"
   ]
  },
  {
   "cell_type": "code",
   "execution_count": 18,
   "metadata": {},
   "outputs": [
    {
     "name": "stdout",
     "output_type": "stream",
     "text": [
      "ReLu activation\n",
      "  Train accuracy: 0.6763586956521739\n",
      "  Test  accuracy: 0.5056721690102575\n",
      "  Extended accuracy: 0.6990693567013111\n"
     ]
    }
   ],
   "source": [
    "from sklearn.neural_network import MLPClassifier\n",
    "\n",
    "network = MLPClassifier(activation=\"relu\", \n",
    "                        max_iter=5000)\n",
    "\n",
    "network.fit(X_scaled_train, y_train)\n",
    "\n",
    "print(\"ReLu activation\")\n",
    "print(\"  Train accuracy:\", network.score(X_scaled_train, y_train))\n",
    "print(\"  Test  accuracy:\", network.score(X_scaled_test, y_test))\n",
    "print(\"  Extended accuracy:\", extended_score(network.predict(X_scaled_test), y_test))"
   ]
  },
  {
   "cell_type": "code",
   "execution_count": 17,
   "metadata": {},
   "outputs": [
    {
     "name": "stdout",
     "output_type": "stream",
     "text": [
      "ReLu activation\n",
      "  Train accuracy: 0.6635190217391305\n",
      "  Test  accuracy: 0.49256164662726715\n",
      "  Extended accuracy: 0.6949256164662727\n"
     ]
    }
   ],
   "source": [
    "from sklearn.neural_network import MLPClassifier\n",
    "\n",
    "network = MLPClassifier(hidden_layer_sizes=(50,10),\n",
    "                        activation=\"logistic\", \n",
    "                        max_iter=5000)\n",
    "\n",
    "network.fit(X_scaled_train, y_train)\n",
    "\n",
    "print(\"ReLu activation\")\n",
    "print(\"  Train accuracy:\", network.score(X_scaled_train, y_train))\n",
    "print(\"  Test  accuracy:\", network.score(X_scaled_test, y_test))\n",
    "print(\"  Extended accuracy:\", extended_score(network.predict(X_scaled_test), y_test))"
   ]
  },
  {
   "cell_type": "code",
   "execution_count": 16,
   "metadata": {},
   "outputs": [
    {
     "name": "stdout",
     "output_type": "stream",
     "text": [
      "ReLu activation\n",
      "  Train accuracy: 0.6372282608695652\n",
      "  Test  accuracy: 0.5065552611914952\n",
      "  Extended accuracy: 0.6998845187147612\n"
     ]
    }
   ],
   "source": [
    "from sklearn.neural_network import MLPClassifier\n",
    "\n",
    "network = MLPClassifier(hidden_layer_sizes=(50),\n",
    "                        activation=\"logistic\", \n",
    "                        max_iter=5000)\n",
    "\n",
    "network.fit(X_scaled_train, y_train)\n",
    "\n",
    "print(\"ReLu activation\")\n",
    "print(\"  Train accuracy:\", network.score(X_scaled_train, y_train))\n",
    "print(\"  Test  accuracy:\", network.score(X_scaled_test, y_test))\n",
    "print(\"  Extended accuracy:\", extended_score(network.predict(X_scaled_test), y_test))"
   ]
  },
  {
   "cell_type": "code",
   "execution_count": 15,
   "metadata": {},
   "outputs": [
    {
     "name": "stdout",
     "output_type": "stream",
     "text": [
      "ReLu activation\n",
      "  Train accuracy: 0.664356884057971\n",
      "  Test  accuracy: 0.503770124312207\n",
      "  Extended accuracy: 0.7063378846545751\n"
     ]
    }
   ],
   "source": [
    "from sklearn.neural_network import MLPClassifier\n",
    "\n",
    "network = MLPClassifier(hidden_layer_sizes=(50,50),\n",
    "                        activation=\"relu\", \n",
    "                        max_iter=5000)\n",
    "\n",
    "network.fit(X_scaled_train, y_train)\n",
    "\n",
    "print(\"ReLu activation\")\n",
    "print(\"  Train accuracy:\", network.score(X_scaled_train, y_train))\n",
    "print(\"  Test  accuracy:\", network.score(X_scaled_test, y_test))\n",
    "print(\"  Extended accuracy:\", extended_score(network.predict(X_scaled_test), y_test))"
   ]
  },
  {
   "cell_type": "code",
   "execution_count": 14,
   "metadata": {},
   "outputs": [
    {
     "name": "stdout",
     "output_type": "stream",
     "text": [
      "ReLu activation\n",
      "  Train accuracy: 0.6440896739130435\n",
      "  Test  accuracy: 0.5212281774335983\n",
      "  Extended accuracy: 0.71741050200394\n"
     ]
    }
   ],
   "source": [
    "from sklearn.neural_network import MLPClassifier\n",
    "\n",
    "network = MLPClassifier(hidden_layer_sizes=(50,20),\n",
    "                        activation=\"relu\", \n",
    "                        max_iter=5000)\n",
    "\n",
    "network.fit(X_scaled_train, y_train)\n",
    "\n",
    "print(\"ReLu activation\")\n",
    "print(\"  Train accuracy:\", network.score(X_scaled_train, y_train))\n",
    "print(\"  Test  accuracy:\", network.score(X_scaled_test, y_test))\n",
    "print(\"  Extended accuracy:\", extended_score(network.predict(X_scaled_test), y_test))"
   ]
  },
  {
   "cell_type": "code",
   "execution_count": 34,
   "metadata": {},
   "outputs": [
    {
     "name": "stdout",
     "output_type": "stream",
     "text": [
      "ReLu activation\n",
      "  Train accuracy: 0.5824954710144927\n",
      "  Test  accuracy: 0.5439847836424156\n",
      "  Extended accuracy: 0.7352761361320562\n"
     ]
    }
   ],
   "source": [
    "from sklearn.neural_network import MLPClassifier\n",
    "\n",
    "network = MLPClassifier(hidden_layer_sizes=(20,10),\n",
    "                        activation=\"relu\", \n",
    "                        max_iter=5000)\n",
    "\n",
    "network.fit(X_scaled_train, y_train)\n",
    "\n",
    "print(\"ReLu activation\")\n",
    "print(\"  Train accuracy:\", network.score(X_scaled_train, y_train))\n",
    "print(\"  Test  accuracy:\", network.score(X_scaled_test, y_test))\n",
    "print(\"  Extended accuracy:\", extended_score(network.predict(X_scaled_test), y_test))"
   ]
  },
  {
   "cell_type": "code",
   "execution_count": 12,
   "metadata": {},
   "outputs": [
    {
     "name": "stdout",
     "output_type": "stream",
     "text": [
      "ReLu activation\n",
      "  Train accuracy: 0.6036911231884058\n",
      "  Test  accuracy: 0.5397731132395897\n",
      "  Extended accuracy: 0.7304530942191427\n"
     ]
    }
   ],
   "source": [
    "from sklearn.neural_network import MLPClassifier\n",
    "\n",
    "network = MLPClassifier(hidden_layer_sizes=(30,10),\n",
    "                        activation=\"relu\", \n",
    "                        max_iter=5000)\n",
    "\n",
    "network.fit(X_scaled_train, y_train)\n",
    "\n",
    "print(\"ReLu activation\")\n",
    "print(\"  Train accuracy:\", network.score(X_scaled_train, y_train))\n",
    "print(\"  Test  accuracy:\", network.score(X_scaled_test, y_test))\n",
    "print(\"  Extended accuracy:\", extended_score(network.predict(X_scaled_test), y_test))"
   ]
  },
  {
   "cell_type": "code",
   "execution_count": 42,
   "metadata": {},
   "outputs": [
    {
     "data": {
      "image/png": "[encoded data removed]",
      "text/plain": [
       "<Figure size 1080x576 with 2 Axes>"
      ]
     },
     "metadata": {},
     "output_type": "display_data"
    }
   ],
   "source": [
    "import matplotlib.pyplot as plt\n",
    "import seaborn as sns\n",
    "from sklearn.metrics import confusion_matrix\n",
    "\n",
    "array = confusion_matrix(network.predict(X_scaled_test), y_test)\n",
    "\n",
    "df_cm = pd.DataFrame(array, range(8), range(8))\n",
    "plt.figure(figsize=(15,8))\n",
    "sns.set(font_scale=1) # for label size\n",
    "sns.heatmap(df_cm, annot=True, annot_kws={\"size\": 16}) # font size\n",
    "\n",
    "plt.show()"
   ]
  },
  {
   "cell_type": "markdown",
   "metadata": {},
   "source": [
    "# Test du Khi-2 d'indépendence"
   ]
  },
  {
   "cell_type": "markdown",
   "metadata": {},
   "source": [
    "## Genre"
   ]
  },
  {
   "cell_type": "code",
   "execution_count": 25,
   "metadata": {},
   "outputs": [],
   "source": [
    "table_predict = network.predict(X_scaled_test)"
   ]
  },
  {
   "cell_type": "code",
   "execution_count": 26,
   "metadata": {},
   "outputs": [
    {
     "data": {
      "text/html": [
       "<div>\n",
       "<style scoped>\n",
       "    .dataframe tbody tr th:only-of-type {\n",
       "        vertical-align: middle;\n",
       "    }\n",
       "\n",
       "    .dataframe tbody tr th {\n",
       "        vertical-align: top;\n",
       "    }\n",
       "\n",
       "    .dataframe thead th {\n",
       "        text-align: right;\n",
       "    }\n",
       "</style>\n",
       "<table border=\"1\" class=\"dataframe\">\n",
       "  <thead>\n",
       "    <tr style=\"text-align: right;\">\n",
       "      <th></th>\n",
       "      <th>Male</th>\n",
       "      <th>Female</th>\n",
       "      <th>Sum</th>\n",
       "    </tr>\n",
       "  </thead>\n",
       "  <tbody>\n",
       "    <tr>\n",
       "      <td>1</td>\n",
       "      <td>0</td>\n",
       "      <td>0</td>\n",
       "      <td>0</td>\n",
       "    </tr>\n",
       "    <tr>\n",
       "      <td>2</td>\n",
       "      <td>0</td>\n",
       "      <td>0</td>\n",
       "      <td>0</td>\n",
       "    </tr>\n",
       "    <tr>\n",
       "      <td>3</td>\n",
       "      <td>0</td>\n",
       "      <td>0</td>\n",
       "      <td>0</td>\n",
       "    </tr>\n",
       "    <tr>\n",
       "      <td>4</td>\n",
       "      <td>0</td>\n",
       "      <td>0</td>\n",
       "      <td>0</td>\n",
       "    </tr>\n",
       "    <tr>\n",
       "      <td>5</td>\n",
       "      <td>0</td>\n",
       "      <td>0</td>\n",
       "      <td>0</td>\n",
       "    </tr>\n",
       "    <tr>\n",
       "      <td>6</td>\n",
       "      <td>0</td>\n",
       "      <td>0</td>\n",
       "      <td>0</td>\n",
       "    </tr>\n",
       "    <tr>\n",
       "      <td>7</td>\n",
       "      <td>0</td>\n",
       "      <td>0</td>\n",
       "      <td>0</td>\n",
       "    </tr>\n",
       "    <tr>\n",
       "      <td>8</td>\n",
       "      <td>0</td>\n",
       "      <td>0</td>\n",
       "      <td>0</td>\n",
       "    </tr>\n",
       "    <tr>\n",
       "      <td>Sum</td>\n",
       "      <td>0</td>\n",
       "      <td>0</td>\n",
       "      <td>0</td>\n",
       "    </tr>\n",
       "  </tbody>\n",
       "</table>\n",
       "</div>"
      ],
      "text/plain": [
       "     Male  Female  Sum\n",
       "1       0       0    0\n",
       "2       0       0    0\n",
       "3       0       0    0\n",
       "4       0       0    0\n",
       "5       0       0    0\n",
       "6       0       0    0\n",
       "7       0       0    0\n",
       "8       0       0    0\n",
       "Sum     0       0    0"
      ]
     },
     "execution_count": 26,
     "metadata": {},
     "output_type": "execute_result"
    }
   ],
   "source": [
    "table = pd.DataFrame()\n",
    "series = pd.Series([0] * 8, index = range(1,9))\n",
    "table['Male'] = series\n",
    "table['Female'] = series\n",
    "table['Sum'] = series\n",
    "\n",
    "table.loc['Sum'] = [0, 0, 0]\n",
    "table "
   ]
  },
  {
   "cell_type": "code",
   "execution_count": 27,
   "metadata": {},
   "outputs": [
    {
     "data": {
      "text/html": [
       "<div>\n",
       "<style scoped>\n",
       "    .dataframe tbody tr th:only-of-type {\n",
       "        vertical-align: middle;\n",
       "    }\n",
       "\n",
       "    .dataframe tbody tr th {\n",
       "        vertical-align: top;\n",
       "    }\n",
       "\n",
       "    .dataframe thead th {\n",
       "        text-align: right;\n",
       "    }\n",
       "</style>\n",
       "<table border=\"1\" class=\"dataframe\">\n",
       "  <thead>\n",
       "    <tr style=\"text-align: right;\">\n",
       "      <th></th>\n",
       "      <th>Male</th>\n",
       "      <th>Female</th>\n",
       "      <th>Sum</th>\n",
       "    </tr>\n",
       "  </thead>\n",
       "  <tbody>\n",
       "    <tr>\n",
       "      <td>1</td>\n",
       "      <td>329</td>\n",
       "      <td>527</td>\n",
       "      <td>856</td>\n",
       "    </tr>\n",
       "    <tr>\n",
       "      <td>2</td>\n",
       "      <td>451</td>\n",
       "      <td>560</td>\n",
       "      <td>1011</td>\n",
       "    </tr>\n",
       "    <tr>\n",
       "      <td>3</td>\n",
       "      <td>61</td>\n",
       "      <td>75</td>\n",
       "      <td>136</td>\n",
       "    </tr>\n",
       "    <tr>\n",
       "      <td>4</td>\n",
       "      <td>127</td>\n",
       "      <td>178</td>\n",
       "      <td>305</td>\n",
       "    </tr>\n",
       "    <tr>\n",
       "      <td>5</td>\n",
       "      <td>549</td>\n",
       "      <td>599</td>\n",
       "      <td>1148</td>\n",
       "    </tr>\n",
       "    <tr>\n",
       "      <td>6</td>\n",
       "      <td>670</td>\n",
       "      <td>2411</td>\n",
       "      <td>3081</td>\n",
       "    </tr>\n",
       "    <tr>\n",
       "      <td>7</td>\n",
       "      <td>712</td>\n",
       "      <td>953</td>\n",
       "      <td>1665</td>\n",
       "    </tr>\n",
       "    <tr>\n",
       "      <td>8</td>\n",
       "      <td>3413</td>\n",
       "      <td>3106</td>\n",
       "      <td>6519</td>\n",
       "    </tr>\n",
       "    <tr>\n",
       "      <td>Sum</td>\n",
       "      <td>6312</td>\n",
       "      <td>8409</td>\n",
       "      <td>14721</td>\n",
       "    </tr>\n",
       "  </tbody>\n",
       "</table>\n",
       "</div>"
      ],
      "text/plain": [
       "     Male  Female    Sum\n",
       "1     329     527    856\n",
       "2     451     560   1011\n",
       "3      61      75    136\n",
       "4     127     178    305\n",
       "5     549     599   1148\n",
       "6     670    2411   3081\n",
       "7     712     953   1665\n",
       "8    3413    3106   6519\n",
       "Sum  6312    8409  14721"
      ]
     },
     "execution_count": 27,
     "metadata": {},
     "output_type": "execute_result"
    }
   ],
   "source": [
    "for i in range(X_test.shape[0]):\n",
    "    if(X_test[i][23] == 11330):\n",
    "        table['Male'][table_predict[i]] += 1\n",
    "        table['Male']['Sum'] += 1\n",
    "    elif(X_test[i][23] == 11335):\n",
    "        table['Female'][table_predict[i]] += 1\n",
    "        table['Female']['Sum'] += 1\n",
    "    table['Sum'][table_predict[i]] += 1\n",
    "    table['Sum']['Sum'] += 1\n",
    "table"
   ]
  },
  {
   "cell_type": "code",
   "execution_count": 28,
   "metadata": {},
   "outputs": [
    {
     "data": {
      "text/plain": [
       "820.7747332613662"
      ]
     },
     "execution_count": 28,
     "metadata": {},
     "output_type": "execute_result"
    }
   ],
   "source": [
    "T = 0\n",
    "\n",
    "for g in ['Male', 'Female']:\n",
    "    for i in range(1,9):\n",
    "        Eij = (table['Sum'][i] * table[g]['Sum'])/table['Sum']['Sum']\n",
    "        T += (table[g][i] - Eij)**2/Eij\n",
    "        \n",
    "T"
   ]
  },
  {
   "cell_type": "markdown",
   "metadata": {},
   "source": [
    "## Religion"
   ]
  },
  {
   "cell_type": "code",
   "execution_count": 29,
   "metadata": {},
   "outputs": [],
   "source": [
    "table_predict = network.predict(X_scaled_test)"
   ]
  },
  {
   "cell_type": "code",
   "execution_count": 30,
   "metadata": {},
   "outputs": [
    {
     "data": {
      "text/html": [
       "<div>\n",
       "<style scoped>\n",
       "    .dataframe tbody tr th:only-of-type {\n",
       "        vertical-align: middle;\n",
       "    }\n",
       "\n",
       "    .dataframe tbody tr th {\n",
       "        vertical-align: top;\n",
       "    }\n",
       "\n",
       "    .dataframe thead th {\n",
       "        text-align: right;\n",
       "    }\n",
       "</style>\n",
       "<table border=\"1\" class=\"dataframe\">\n",
       "  <thead>\n",
       "    <tr style=\"text-align: right;\">\n",
       "      <th></th>\n",
       "      <th>Christian</th>\n",
       "      <th>Muslim</th>\n",
       "      <th>Jewish</th>\n",
       "      <th>Buddhist</th>\n",
       "      <th>Hindus</th>\n",
       "      <th>Other</th>\n",
       "      <th>Sum</th>\n",
       "    </tr>\n",
       "  </thead>\n",
       "  <tbody>\n",
       "    <tr>\n",
       "      <td>1</td>\n",
       "      <td>0</td>\n",
       "      <td>0</td>\n",
       "      <td>0</td>\n",
       "      <td>0</td>\n",
       "      <td>0</td>\n",
       "      <td>0</td>\n",
       "      <td>0</td>\n",
       "    </tr>\n",
       "    <tr>\n",
       "      <td>2</td>\n",
       "      <td>0</td>\n",
       "      <td>0</td>\n",
       "      <td>0</td>\n",
       "      <td>0</td>\n",
       "      <td>0</td>\n",
       "      <td>0</td>\n",
       "      <td>0</td>\n",
       "    </tr>\n",
       "    <tr>\n",
       "      <td>3</td>\n",
       "      <td>0</td>\n",
       "      <td>0</td>\n",
       "      <td>0</td>\n",
       "      <td>0</td>\n",
       "      <td>0</td>\n",
       "      <td>0</td>\n",
       "      <td>0</td>\n",
       "    </tr>\n",
       "    <tr>\n",
       "      <td>4</td>\n",
       "      <td>0</td>\n",
       "      <td>0</td>\n",
       "      <td>0</td>\n",
       "      <td>0</td>\n",
       "      <td>0</td>\n",
       "      <td>0</td>\n",
       "      <td>0</td>\n",
       "    </tr>\n",
       "    <tr>\n",
       "      <td>5</td>\n",
       "      <td>0</td>\n",
       "      <td>0</td>\n",
       "      <td>0</td>\n",
       "      <td>0</td>\n",
       "      <td>0</td>\n",
       "      <td>0</td>\n",
       "      <td>0</td>\n",
       "    </tr>\n",
       "    <tr>\n",
       "      <td>6</td>\n",
       "      <td>0</td>\n",
       "      <td>0</td>\n",
       "      <td>0</td>\n",
       "      <td>0</td>\n",
       "      <td>0</td>\n",
       "      <td>0</td>\n",
       "      <td>0</td>\n",
       "    </tr>\n",
       "    <tr>\n",
       "      <td>7</td>\n",
       "      <td>0</td>\n",
       "      <td>0</td>\n",
       "      <td>0</td>\n",
       "      <td>0</td>\n",
       "      <td>0</td>\n",
       "      <td>0</td>\n",
       "      <td>0</td>\n",
       "    </tr>\n",
       "    <tr>\n",
       "      <td>8</td>\n",
       "      <td>0</td>\n",
       "      <td>0</td>\n",
       "      <td>0</td>\n",
       "      <td>0</td>\n",
       "      <td>0</td>\n",
       "      <td>0</td>\n",
       "      <td>0</td>\n",
       "    </tr>\n",
       "    <tr>\n",
       "      <td>Sum</td>\n",
       "      <td>0</td>\n",
       "      <td>0</td>\n",
       "      <td>0</td>\n",
       "      <td>0</td>\n",
       "      <td>0</td>\n",
       "      <td>0</td>\n",
       "      <td>0</td>\n",
       "    </tr>\n",
       "  </tbody>\n",
       "</table>\n",
       "</div>"
      ],
      "text/plain": [
       "     Christian  Muslim  Jewish  Buddhist  Hindus  Other  Sum\n",
       "1            0       0       0         0       0      0    0\n",
       "2            0       0       0         0       0      0    0\n",
       "3            0       0       0         0       0      0    0\n",
       "4            0       0       0         0       0      0    0\n",
       "5            0       0       0         0       0      0    0\n",
       "6            0       0       0         0       0      0    0\n",
       "7            0       0       0         0       0      0    0\n",
       "8            0       0       0         0       0      0    0\n",
       "Sum          0       0       0         0       0      0    0"
      ]
     },
     "execution_count": 30,
     "metadata": {},
     "output_type": "execute_result"
    }
   ],
   "source": [
    "table = pd.DataFrame()\n",
    "series = pd.Series([0] * 8, index = range(1,9))\n",
    "table['Christian'] = series\n",
    "table['Muslim'] = series\n",
    "table['Jewish'] = series\n",
    "table['Buddhist'] = series\n",
    "table['Hindus'] = series\n",
    "table['Other'] = series\n",
    "table['Sum'] = series\n",
    "\n",
    "table.loc['Sum'] = [0]*table.shape[1]\n",
    "table "
   ]
  },
  {
   "cell_type": "code",
   "execution_count": 31,
   "metadata": {},
   "outputs": [
    {
     "data": {
      "text/html": [
       "<div>\n",
       "<style scoped>\n",
       "    .dataframe tbody tr th:only-of-type {\n",
       "        vertical-align: middle;\n",
       "    }\n",
       "\n",
       "    .dataframe tbody tr th {\n",
       "        vertical-align: top;\n",
       "    }\n",
       "\n",
       "    .dataframe thead th {\n",
       "        text-align: right;\n",
       "    }\n",
       "</style>\n",
       "<table border=\"1\" class=\"dataframe\">\n",
       "  <thead>\n",
       "    <tr style=\"text-align: right;\">\n",
       "      <th></th>\n",
       "      <th>Christian</th>\n",
       "      <th>Muslim</th>\n",
       "      <th>Jewish</th>\n",
       "      <th>Buddhist</th>\n",
       "      <th>Hindus</th>\n",
       "      <th>Other</th>\n",
       "      <th>Sum</th>\n",
       "    </tr>\n",
       "  </thead>\n",
       "  <tbody>\n",
       "    <tr>\n",
       "      <td>1</td>\n",
       "      <td>72</td>\n",
       "      <td>61</td>\n",
       "      <td>100</td>\n",
       "      <td>22</td>\n",
       "      <td>27</td>\n",
       "      <td>574</td>\n",
       "      <td>856</td>\n",
       "    </tr>\n",
       "    <tr>\n",
       "      <td>2</td>\n",
       "      <td>62</td>\n",
       "      <td>72</td>\n",
       "      <td>94</td>\n",
       "      <td>33</td>\n",
       "      <td>25</td>\n",
       "      <td>725</td>\n",
       "      <td>1011</td>\n",
       "    </tr>\n",
       "    <tr>\n",
       "      <td>3</td>\n",
       "      <td>3</td>\n",
       "      <td>6</td>\n",
       "      <td>11</td>\n",
       "      <td>3</td>\n",
       "      <td>3</td>\n",
       "      <td>110</td>\n",
       "      <td>136</td>\n",
       "    </tr>\n",
       "    <tr>\n",
       "      <td>4</td>\n",
       "      <td>9</td>\n",
       "      <td>21</td>\n",
       "      <td>25</td>\n",
       "      <td>5</td>\n",
       "      <td>2</td>\n",
       "      <td>243</td>\n",
       "      <td>305</td>\n",
       "    </tr>\n",
       "    <tr>\n",
       "      <td>5</td>\n",
       "      <td>40</td>\n",
       "      <td>105</td>\n",
       "      <td>112</td>\n",
       "      <td>9</td>\n",
       "      <td>9</td>\n",
       "      <td>873</td>\n",
       "      <td>1148</td>\n",
       "    </tr>\n",
       "    <tr>\n",
       "      <td>6</td>\n",
       "      <td>85</td>\n",
       "      <td>274</td>\n",
       "      <td>326</td>\n",
       "      <td>37</td>\n",
       "      <td>34</td>\n",
       "      <td>2325</td>\n",
       "      <td>3081</td>\n",
       "    </tr>\n",
       "    <tr>\n",
       "      <td>7</td>\n",
       "      <td>46</td>\n",
       "      <td>158</td>\n",
       "      <td>204</td>\n",
       "      <td>16</td>\n",
       "      <td>11</td>\n",
       "      <td>1230</td>\n",
       "      <td>1665</td>\n",
       "    </tr>\n",
       "    <tr>\n",
       "      <td>8</td>\n",
       "      <td>152</td>\n",
       "      <td>645</td>\n",
       "      <td>728</td>\n",
       "      <td>66</td>\n",
       "      <td>37</td>\n",
       "      <td>4891</td>\n",
       "      <td>6519</td>\n",
       "    </tr>\n",
       "    <tr>\n",
       "      <td>Sum</td>\n",
       "      <td>469</td>\n",
       "      <td>1342</td>\n",
       "      <td>1600</td>\n",
       "      <td>191</td>\n",
       "      <td>148</td>\n",
       "      <td>10971</td>\n",
       "      <td>14721</td>\n",
       "    </tr>\n",
       "  </tbody>\n",
       "</table>\n",
       "</div>"
      ],
      "text/plain": [
       "     Christian  Muslim  Jewish  Buddhist  Hindus  Other    Sum\n",
       "1           72      61     100        22      27    574    856\n",
       "2           62      72      94        33      25    725   1011\n",
       "3            3       6      11         3       3    110    136\n",
       "4            9      21      25         5       2    243    305\n",
       "5           40     105     112         9       9    873   1148\n",
       "6           85     274     326        37      34   2325   3081\n",
       "7           46     158     204        16      11   1230   1665\n",
       "8          152     645     728        66      37   4891   6519\n",
       "Sum        469    1342    1600       191     148  10971  14721"
      ]
     },
     "execution_count": 31,
     "metadata": {},
     "output_type": "execute_result"
    }
   ],
   "source": [
    "for i in range(X_test.shape[0]):\n",
    "    if(X_test[i][25] == 11324):\n",
    "        table['Christian'][table_predict[i]] += 1\n",
    "        table['Christian']['Sum'] += 1\n",
    "    elif(X_test[i][25] == 11336):\n",
    "        table['Muslim'][table_predict[i]] += 1\n",
    "        table['Muslim']['Sum'] += 1\n",
    "    elif(X_test[i][25] == 11333):\n",
    "        table['Jewish'][table_predict[i]] += 1\n",
    "        table['Jewish']['Sum'] += 1\n",
    "    elif(X_test[i][25] == 11331):\n",
    "        table['Buddhist'][table_predict[i]] += 1\n",
    "        table['Buddhist']['Sum'] += 1\n",
    "    elif(X_test[i][25] == 11318):\n",
    "        table['Hindus'][table_predict[i]] += 1\n",
    "        table['Hindus']['Sum'] += 1\n",
    "    else:\n",
    "        table['Other'][table_predict[i]] += 1\n",
    "        table['Other']['Sum'] += 1\n",
    "    table['Sum'][table_predict[i]] += 1\n",
    "    table['Sum']['Sum'] += 1\n",
    "table"
   ]
  },
  {
   "cell_type": "code",
   "execution_count": 32,
   "metadata": {},
   "outputs": [
    {
     "data": {
      "text/plain": [
       "286.90488529538965"
      ]
     },
     "execution_count": 32,
     "metadata": {},
     "output_type": "execute_result"
    }
   ],
   "source": [
    "T = 0\n",
    "\n",
    "for g in table.keys():\n",
    "    for i in range(1,9):\n",
    "        Eij = (table['Sum'][i] * table[g]['Sum'])/table['Sum']['Sum']\n",
    "        T += (table[g][i] - Eij)**2/Eij\n",
    "        \n",
    "T"
   ]
  },
  {
   "cell_type": "markdown",
   "metadata": {},
   "source": [
    "## Groupe Ethnique"
   ]
  },
  {
   "cell_type": "code",
   "execution_count": 10,
   "metadata": {},
   "outputs": [],
   "source": [
    "table_predict = network.predict(X_scaled_test)"
   ]
  },
  {
   "cell_type": "code",
   "execution_count": 11,
   "metadata": {},
   "outputs": [
    {
     "data": {
      "text/html": [
       "<div>\n",
       "<style scoped>\n",
       "    .dataframe tbody tr th:only-of-type {\n",
       "        vertical-align: middle;\n",
       "    }\n",
       "\n",
       "    .dataframe tbody tr th {\n",
       "        vertical-align: top;\n",
       "    }\n",
       "\n",
       "    .dataframe thead th {\n",
       "        text-align: right;\n",
       "    }\n",
       "</style>\n",
       "<table border=\"1\" class=\"dataframe\">\n",
       "  <thead>\n",
       "    <tr style=\"text-align: right;\">\n",
       "      <th></th>\n",
       "      <th>Caucasian</th>\n",
       "      <th>Black</th>\n",
       "      <th>Arabic</th>\n",
       "      <th>African-American</th>\n",
       "      <th>Asian</th>\n",
       "      <th>Hispanic</th>\n",
       "      <th>Latino</th>\n",
       "      <th>Other</th>\n",
       "      <th>Sum</th>\n",
       "    </tr>\n",
       "  </thead>\n",
       "  <tbody>\n",
       "    <tr>\n",
       "      <td>1</td>\n",
       "      <td>0</td>\n",
       "      <td>0</td>\n",
       "      <td>0</td>\n",
       "      <td>0</td>\n",
       "      <td>0</td>\n",
       "      <td>0</td>\n",
       "      <td>0</td>\n",
       "      <td>0</td>\n",
       "      <td>0</td>\n",
       "    </tr>\n",
       "    <tr>\n",
       "      <td>2</td>\n",
       "      <td>0</td>\n",
       "      <td>0</td>\n",
       "      <td>0</td>\n",
       "      <td>0</td>\n",
       "      <td>0</td>\n",
       "      <td>0</td>\n",
       "      <td>0</td>\n",
       "      <td>0</td>\n",
       "      <td>0</td>\n",
       "    </tr>\n",
       "    <tr>\n",
       "      <td>3</td>\n",
       "      <td>0</td>\n",
       "      <td>0</td>\n",
       "      <td>0</td>\n",
       "      <td>0</td>\n",
       "      <td>0</td>\n",
       "      <td>0</td>\n",
       "      <td>0</td>\n",
       "      <td>0</td>\n",
       "      <td>0</td>\n",
       "    </tr>\n",
       "    <tr>\n",
       "      <td>4</td>\n",
       "      <td>0</td>\n",
       "      <td>0</td>\n",
       "      <td>0</td>\n",
       "      <td>0</td>\n",
       "      <td>0</td>\n",
       "      <td>0</td>\n",
       "      <td>0</td>\n",
       "      <td>0</td>\n",
       "      <td>0</td>\n",
       "    </tr>\n",
       "    <tr>\n",
       "      <td>5</td>\n",
       "      <td>0</td>\n",
       "      <td>0</td>\n",
       "      <td>0</td>\n",
       "      <td>0</td>\n",
       "      <td>0</td>\n",
       "      <td>0</td>\n",
       "      <td>0</td>\n",
       "      <td>0</td>\n",
       "      <td>0</td>\n",
       "    </tr>\n",
       "    <tr>\n",
       "      <td>6</td>\n",
       "      <td>0</td>\n",
       "      <td>0</td>\n",
       "      <td>0</td>\n",
       "      <td>0</td>\n",
       "      <td>0</td>\n",
       "      <td>0</td>\n",
       "      <td>0</td>\n",
       "      <td>0</td>\n",
       "      <td>0</td>\n",
       "    </tr>\n",
       "    <tr>\n",
       "      <td>7</td>\n",
       "      <td>0</td>\n",
       "      <td>0</td>\n",
       "      <td>0</td>\n",
       "      <td>0</td>\n",
       "      <td>0</td>\n",
       "      <td>0</td>\n",
       "      <td>0</td>\n",
       "      <td>0</td>\n",
       "      <td>0</td>\n",
       "    </tr>\n",
       "    <tr>\n",
       "      <td>8</td>\n",
       "      <td>0</td>\n",
       "      <td>0</td>\n",
       "      <td>0</td>\n",
       "      <td>0</td>\n",
       "      <td>0</td>\n",
       "      <td>0</td>\n",
       "      <td>0</td>\n",
       "      <td>0</td>\n",
       "      <td>0</td>\n",
       "    </tr>\n",
       "    <tr>\n",
       "      <td>Sum</td>\n",
       "      <td>0</td>\n",
       "      <td>0</td>\n",
       "      <td>0</td>\n",
       "      <td>0</td>\n",
       "      <td>0</td>\n",
       "      <td>0</td>\n",
       "      <td>0</td>\n",
       "      <td>0</td>\n",
       "      <td>0</td>\n",
       "    </tr>\n",
       "  </tbody>\n",
       "</table>\n",
       "</div>"
      ],
      "text/plain": [
       "     Caucasian  Black  Arabic  African-American  Asian  Hispanic  Latino  \\\n",
       "1            0      0       0                 0      0         0       0   \n",
       "2            0      0       0                 0      0         0       0   \n",
       "3            0      0       0                 0      0         0       0   \n",
       "4            0      0       0                 0      0         0       0   \n",
       "5            0      0       0                 0      0         0       0   \n",
       "6            0      0       0                 0      0         0       0   \n",
       "7            0      0       0                 0      0         0       0   \n",
       "8            0      0       0                 0      0         0       0   \n",
       "Sum          0      0       0                 0      0         0       0   \n",
       "\n",
       "     Other  Sum  \n",
       "1        0    0  \n",
       "2        0    0  \n",
       "3        0    0  \n",
       "4        0    0  \n",
       "5        0    0  \n",
       "6        0    0  \n",
       "7        0    0  \n",
       "8        0    0  \n",
       "Sum      0    0  "
      ]
     },
     "execution_count": 11,
     "metadata": {},
     "output_type": "execute_result"
    }
   ],
   "source": [
    "table = pd.DataFrame()\n",
    "series = pd.Series([0] * 8, index = range(1,9))\n",
    "table['Caucasian'] = series\n",
    "table['Black'] = series\n",
    "table['Arabic'] = series\n",
    "table['African-American'] = series\n",
    "table['Asian'] = series\n",
    "table['Hispanic'] = series\n",
    "table['Latino'] = series\n",
    "table['Other'] = series\n",
    "table['Sum'] = series\n",
    "\n",
    "table.loc['Sum'] = [0]*table.shape[1]\n",
    "table "
   ]
  },
  {
   "cell_type": "code",
   "execution_count": 12,
   "metadata": {},
   "outputs": [
    {
     "data": {
      "text/html": [
       "<div>\n",
       "<style scoped>\n",
       "    .dataframe tbody tr th:only-of-type {\n",
       "        vertical-align: middle;\n",
       "    }\n",
       "\n",
       "    .dataframe tbody tr th {\n",
       "        vertical-align: top;\n",
       "    }\n",
       "\n",
       "    .dataframe thead th {\n",
       "        text-align: right;\n",
       "    }\n",
       "</style>\n",
       "<table border=\"1\" class=\"dataframe\">\n",
       "  <thead>\n",
       "    <tr style=\"text-align: right;\">\n",
       "      <th></th>\n",
       "      <th>Caucasian</th>\n",
       "      <th>Black</th>\n",
       "      <th>Arabic</th>\n",
       "      <th>African-American</th>\n",
       "      <th>Asian</th>\n",
       "      <th>Hispanic</th>\n",
       "      <th>Latino</th>\n",
       "      <th>Other</th>\n",
       "      <th>Sum</th>\n",
       "    </tr>\n",
       "  </thead>\n",
       "  <tbody>\n",
       "    <tr>\n",
       "      <td>1</td>\n",
       "      <td>19</td>\n",
       "      <td>62</td>\n",
       "      <td>1</td>\n",
       "      <td>6</td>\n",
       "      <td>8</td>\n",
       "      <td>5</td>\n",
       "      <td>3</td>\n",
       "      <td>705</td>\n",
       "      <td>809</td>\n",
       "    </tr>\n",
       "    <tr>\n",
       "      <td>2</td>\n",
       "      <td>21</td>\n",
       "      <td>62</td>\n",
       "      <td>1</td>\n",
       "      <td>7</td>\n",
       "      <td>5</td>\n",
       "      <td>2</td>\n",
       "      <td>10</td>\n",
       "      <td>967</td>\n",
       "      <td>1075</td>\n",
       "    </tr>\n",
       "    <tr>\n",
       "      <td>3</td>\n",
       "      <td>0</td>\n",
       "      <td>8</td>\n",
       "      <td>0</td>\n",
       "      <td>1</td>\n",
       "      <td>2</td>\n",
       "      <td>0</td>\n",
       "      <td>0</td>\n",
       "      <td>125</td>\n",
       "      <td>136</td>\n",
       "    </tr>\n",
       "    <tr>\n",
       "      <td>4</td>\n",
       "      <td>2</td>\n",
       "      <td>14</td>\n",
       "      <td>0</td>\n",
       "      <td>3</td>\n",
       "      <td>1</td>\n",
       "      <td>1</td>\n",
       "      <td>6</td>\n",
       "      <td>274</td>\n",
       "      <td>301</td>\n",
       "    </tr>\n",
       "    <tr>\n",
       "      <td>5</td>\n",
       "      <td>8</td>\n",
       "      <td>71</td>\n",
       "      <td>0</td>\n",
       "      <td>12</td>\n",
       "      <td>10</td>\n",
       "      <td>6</td>\n",
       "      <td>13</td>\n",
       "      <td>1031</td>\n",
       "      <td>1151</td>\n",
       "    </tr>\n",
       "    <tr>\n",
       "      <td>6</td>\n",
       "      <td>77</td>\n",
       "      <td>240</td>\n",
       "      <td>1</td>\n",
       "      <td>73</td>\n",
       "      <td>15</td>\n",
       "      <td>5</td>\n",
       "      <td>36</td>\n",
       "      <td>2712</td>\n",
       "      <td>3159</td>\n",
       "    </tr>\n",
       "    <tr>\n",
       "      <td>7</td>\n",
       "      <td>38</td>\n",
       "      <td>111</td>\n",
       "      <td>0</td>\n",
       "      <td>27</td>\n",
       "      <td>21</td>\n",
       "      <td>5</td>\n",
       "      <td>24</td>\n",
       "      <td>1576</td>\n",
       "      <td>1802</td>\n",
       "    </tr>\n",
       "    <tr>\n",
       "      <td>8</td>\n",
       "      <td>84</td>\n",
       "      <td>399</td>\n",
       "      <td>1</td>\n",
       "      <td>98</td>\n",
       "      <td>45</td>\n",
       "      <td>39</td>\n",
       "      <td>102</td>\n",
       "      <td>5520</td>\n",
       "      <td>6288</td>\n",
       "    </tr>\n",
       "    <tr>\n",
       "      <td>Sum</td>\n",
       "      <td>249</td>\n",
       "      <td>967</td>\n",
       "      <td>4</td>\n",
       "      <td>227</td>\n",
       "      <td>107</td>\n",
       "      <td>63</td>\n",
       "      <td>194</td>\n",
       "      <td>12910</td>\n",
       "      <td>14721</td>\n",
       "    </tr>\n",
       "  </tbody>\n",
       "</table>\n",
       "</div>"
      ],
      "text/plain": [
       "     Caucasian  Black  Arabic  African-American  Asian  Hispanic  Latino  \\\n",
       "1           19     62       1                 6      8         5       3   \n",
       "2           21     62       1                 7      5         2      10   \n",
       "3            0      8       0                 1      2         0       0   \n",
       "4            2     14       0                 3      1         1       6   \n",
       "5            8     71       0                12     10         6      13   \n",
       "6           77    240       1                73     15         5      36   \n",
       "7           38    111       0                27     21         5      24   \n",
       "8           84    399       1                98     45        39     102   \n",
       "Sum        249    967       4               227    107        63     194   \n",
       "\n",
       "     Other    Sum  \n",
       "1      705    809  \n",
       "2      967   1075  \n",
       "3      125    136  \n",
       "4      274    301  \n",
       "5     1031   1151  \n",
       "6     2712   3159  \n",
       "7     1576   1802  \n",
       "8     5520   6288  \n",
       "Sum  12910  14721  "
      ]
     },
     "execution_count": 12,
     "metadata": {},
     "output_type": "execute_result"
    }
   ],
   "source": [
    "for i in range(X_test.shape[0]):\n",
    "    if(X_test[i][24] == 11323):\n",
    "        table['Caucasian'][table_predict[i]] += 1\n",
    "        table['Caucasian']['Sum'] += 1\n",
    "    elif(X_test[i][24] == 11317):\n",
    "        table['Black'][table_predict[i]] += 1\n",
    "        table['Black']['Sum'] += 1\n",
    "    elif(X_test[i][24] == 11313):\n",
    "        table['Arabic'][table_predict[i]] += 1\n",
    "        table['Arabic']['Sum'] += 1\n",
    "    elif(X_test[i][24] == 11334):\n",
    "        table['African-American'][table_predict[i]] += 1\n",
    "        table['African-American']['Sum'] += 1\n",
    "    elif(X_test[i][24] == 11314):\n",
    "        table['Asian'][table_predict[i]] += 1\n",
    "        table['Asian']['Sum'] += 1\n",
    "    elif(X_test[i][24] == 11332):\n",
    "        table['Hispanic'][table_predict[i]] += 1\n",
    "        table['Hispanic']['Sum'] += 1\n",
    "    elif(X_test[i][24] == 11312):\n",
    "        table['Latino'][table_predict[i]] += 1\n",
    "        table['Latino']['Sum'] += 1\n",
    "    else:\n",
    "        table['Other'][table_predict[i]] += 1\n",
    "        table['Other']['Sum'] += 1\n",
    "    table['Sum'][table_predict[i]] += 1\n",
    "    table['Sum']['Sum'] += 1\n",
    "table"
   ]
  },
  {
   "cell_type": "code",
   "execution_count": 13,
   "metadata": {},
   "outputs": [
    {
     "data": {
      "text/plain": [
       "114.953700007326"
      ]
     },
     "execution_count": 13,
     "metadata": {},
     "output_type": "execute_result"
    }
   ],
   "source": [
    "T = 0\n",
    "\n",
    "for g in table.keys():\n",
    "    for i in range(1,9):\n",
    "        Eij = (table['Sum'][i] * table[g]['Sum'])/table['Sum']['Sum']\n",
    "        T += (table[g][i] - Eij)**2/Eij\n",
    "        \n",
    "T"
   ]
  },
  {
   "cell_type": "code",
   "execution_count": null,
   "metadata": {},
   "outputs": [],
   "source": []
  }
 ],
 "metadata": {
  "kernelspec": {
   "display_name": "Python 3",
   "language": "python",
   "name": "python3"
  },
  "language_info": {
   "codemirror_mode": {
    "name": "ipython",
    "version": 3
   },
   "file_extension": ".py",
   "mimetype": "text/x-python",
   "name": "python",
   "nbconvert_exporter": "python",
   "pygments_lexer": "ipython3",
   "version": "3.6.6"
  }
 },
 "nbformat": 4,
 "nbformat_minor": 2
}
